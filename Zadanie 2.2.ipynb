{
 "cells": [
  {
   "cell_type": "code",
   "execution_count": 10,
   "id": "initial_id",
   "metadata": {
    "collapsed": true,
    "ExecuteTime": {
     "end_time": "2023-12-28T13:17:56.605157300Z",
     "start_time": "2023-12-28T13:17:56.536161500Z"
    }
   },
   "outputs": [],
   "source": [
    "import pandas as pd"
   ]
  },
  {
   "cell_type": "code",
   "outputs": [],
   "source": [
    "data = pd.read_html(\n",
    "    'https://www.officialcharts.com/chart-news/the-best-selling-albums-of-all-time-on-the-official-uk-chart__15551/',\n",
    "    header=0)\n",
    "df = pd.DataFrame(data[0])"
   ],
   "metadata": {
    "collapsed": false,
    "ExecuteTime": {
     "end_time": "2023-12-28T13:17:56.811008400Z",
     "start_time": "2023-12-28T13:17:56.610158Z"
    }
   },
   "id": "b63e2a4efe343ee7",
   "execution_count": 11
  },
  {
   "cell_type": "code",
   "outputs": [],
   "source": [
    "df = df.rename(columns={'POS': 'POZYCJA', 'ARTIST': 'ARTYSTA', 'TITLE': 'TYTUŁ', 'YEAR': 'ROK', 'HIGH POSN': 'MAX POZ'})"
   ],
   "metadata": {
    "collapsed": false,
    "ExecuteTime": {
     "end_time": "2023-12-28T13:17:56.820399800Z",
     "start_time": "2023-12-28T13:17:56.815013700Z"
    }
   },
   "id": "e25c53fced4ad7b2",
   "execution_count": 12
  },
  {
   "cell_type": "markdown",
   "source": [
    "Zmiana nazw kolumn"
   ],
   "metadata": {
    "collapsed": false
   },
   "id": "d0f72ee4de671175"
  },
  {
   "cell_type": "code",
   "outputs": [
    {
     "data": {
      "text/plain": "47"
     },
     "execution_count": 13,
     "metadata": {},
     "output_type": "execute_result"
    }
   ],
   "source": [
    "ilosc_artystow = len(df['ARTYSTA'].unique())\n",
    "ilosc_artystow"
   ],
   "metadata": {
    "collapsed": false,
    "ExecuteTime": {
     "end_time": "2023-12-28T13:17:56.829119Z",
     "start_time": "2023-12-28T13:17:56.821393900Z"
    }
   },
   "id": "6ed88c50afd86d2a",
   "execution_count": 13
  },
  {
   "cell_type": "markdown",
   "source": [
    "Zliczanie ilości unikatowych artystów"
   ],
   "metadata": {
    "collapsed": false
   },
   "id": "aab9416bced5704d"
  },
  {
   "cell_type": "code",
   "outputs": [
    {
     "data": {
      "text/plain": "['COLDPLAY', 'TAKE THAT']"
     },
     "execution_count": 14,
     "metadata": {},
     "output_type": "execute_result"
    }
   ],
   "source": [
    "najczesciej_wystepujace = df['ARTYSTA'].mode().tolist()\n",
    "najczesciej_wystepujace"
   ],
   "metadata": {
    "collapsed": false,
    "ExecuteTime": {
     "end_time": "2023-12-28T13:17:56.877852100Z",
     "start_time": "2023-12-28T13:17:56.831121100Z"
    }
   },
   "id": "cb6f394acd31bd0b",
   "execution_count": 14
  },
  {
   "cell_type": "markdown",
   "source": [
    "zliczenie zespołów pojawiających się najczęściej na liście"
   ],
   "metadata": {
    "collapsed": false
   },
   "id": "b1040ea58f1bec36"
  },
  {
   "cell_type": "markdown",
   "source": [],
   "metadata": {
    "collapsed": false
   },
   "id": "b959ce763e9b3693"
  },
  {
   "cell_type": "code",
   "outputs": [
    {
     "data": {
      "text/plain": "    Pozycja                                   Tytuł                   Artysta  \\\n0         1                           GREATEST HITS                     QUEEN   \n1         2                    GOLD - GREATEST HITS                      ABBA   \n2         3    SGT PEPPER'S LONELY HEARTS CLUB BAND                   BEATLES   \n3         4                                      21                     ADELE   \n4         5          WHAT'S THE STORY MORNING GLORY                     OASIS   \n5         6                                THRILLER           MICHAEL JACKSON   \n6         7               THE DARK SIDE OF THE MOON                PINK FLOYD   \n7         8                        BROTHERS IN ARMS              DIRE STRAITS   \n8         9                                     BAD           MICHAEL JACKSON   \n9        10                        GREATEST HITS II                     QUEEN   \n10       11                                 RUMOURS             FLEETWOOD MAC   \n11       12               THE IMMACULATE COLLECTION                   MADONNA   \n12       13                           BACK TO BLACK             AMY WINEHOUSE   \n13       14                                   STARS                SIMPLY RED   \n14       15                            COME ON OVER              SHANIA TWAIN   \n15       16                                  LEGEND  BOB MARLEY & THE WAILERS   \n16       17                          BACK TO BEDLAM               JAMES BLUNT   \n17       18                             URBAN HYMNS                     VERVE   \n18       19                         BAT OUT OF HELL                 MEAT LOAF   \n19       20                                       1                   BEATLES   \n20       21              BRIDGE OVER TROUBLED WATER         SIMON & GARFUNKEL   \n21       22                           DIRTY DANCING       ORIGINAL SOUNDTRACK   \n22       23                                  SPIRIT               LEONA LEWIS   \n23       24                              CRAZY LOVE             MICHAEL BUBLE   \n24       25                                NO ANGEL                      DIDO   \n25       26                            WHITE LADDER                DAVID GRAY   \n26       27                                      25                     ADELE   \n27       28                         TALK ON CORNERS                     CORRS   \n28       29                                   SPICE               SPICE GIRLS   \n29       30                                THE FAME                 LADY GAGA   \n30       31             A RUSH OF BLOOD TO THE HEAD                  COLDPLAY   \n31       32                           LIFE FOR RENT                      DIDO   \n32       33                       ONLY BY THE NIGHT             KINGS OF LEON   \n33       34                         BEAUTIFUL WORLD                 TAKE THAT   \n34       35                         HOPES AND FEARS                     KEANE   \n35       36                         THE JOSHUA TREE                        U2   \n36       37                   THE WAR OF THE WORLDS                JEFF WAYNE   \n37       38                         SCISSOR SISTERS           SCISSOR SISTERS   \n38       39                           BUT SERIOUSLY              PHIL COLLINS   \n39       40                                     X&Y                  COLDPLAY   \n40       41                      JAGGED LITTLE PILL         ALANIS MORISSETTE   \n41       42                           TUBULAR BELLS             MIKE OLDFIELD   \n42       43                             THE MAN WHO                    TRAVIS   \n43       44                           TRACY CHAPMAN             TRACY CHAPMAN   \n44       45                              PARACHUTES                  COLDPLAY   \n45       46                           GREATEST HITS                      ABBA   \n46       47                                  GREASE       ORIGINAL SOUNDTRACK   \n47       48                 I'VE BEEN EXPECTING YOU           ROBBIE WILLIAMS   \n48       49                                       X                ED SHEERAN   \n49       50                       COME AWAY WITH ME               NORAH JONES   \n50       51                               GRACELAND                PAUL SIMON   \n51       52                      THE SOUND OF MUSIC   ORIGINAL CAST RECORDING   \n52       53        LADIES & GENTLEMEN - THE BEST OF            GEORGE MICHAEL   \n53       54                      TANGO IN THE NIGHT             FLEETWOOD MAC   \n54       55                 THE MARSHALL MATHERS LP                    EMINEM   \n55       56               SWING WHEN YOU'RE WINNING           ROBBIE WILLIAMS   \n56       57                                PROGRESS                 TAKE THAT   \n57       58                               EYES OPEN               SNOW PATROL   \n58       59  NEVER FORGET - THE ULTIMATE COLLECTION                 TAKE THAT   \n59       60                AUTOMATIC FOR THE PEOPLE                       REM   \n\n     Rok  Max poz  \n0   1981        1  \n1   1992        1  \n2   1967        1  \n3   2011        1  \n4   1995        1  \n5   1982        1  \n6   1973        2  \n7   1985        1  \n8   1987        1  \n9   1991        1  \n10  1977        1  \n11  1990        1  \n12  2006        1  \n13  1991        1  \n14  1997        1  \n15  1984        1  \n16  2004        1  \n17  1997        1  \n18  1977        9  \n19  2000        1  \n20  1970        1  \n21  1987        4  \n22  2007        1  \n23  2009        1  \n24  2000        1  \n25  1998        1  \n26  2015        1  \n27  1997        1  \n28  1996        1  \n29  2008        1  \n30  2002        1  \n31  2003        1  \n32  2008        1  \n33  2006        1  \n34  2004        1  \n35  1987        1  \n36  1978        5  \n37  2004        1  \n38  1989        1  \n39  2005        1  \n40  1995        1  \n41  1973        1  \n42  1999        1  \n43  1988        1  \n44  2000        1  \n45  1975        1  \n46  1977        1  \n47  1998        1  \n48  2014        1  \n49  2002        1  \n50  1986        1  \n51  1965        1  \n52  1998        1  \n53  1987        1  \n54  2000        1  \n55  2001        1  \n56  2010        1  \n57  2006        1  \n58  2005        2  \n59  1992        1  ",
      "text/html": "<div>\n<style scoped>\n    .dataframe tbody tr th:only-of-type {\n        vertical-align: middle;\n    }\n\n    .dataframe tbody tr th {\n        vertical-align: top;\n    }\n\n    .dataframe thead th {\n        text-align: right;\n    }\n</style>\n<table border=\"1\" class=\"dataframe\">\n  <thead>\n    <tr style=\"text-align: right;\">\n      <th></th>\n      <th>Pozycja</th>\n      <th>Tytuł</th>\n      <th>Artysta</th>\n      <th>Rok</th>\n      <th>Max poz</th>\n    </tr>\n  </thead>\n  <tbody>\n    <tr>\n      <th>0</th>\n      <td>1</td>\n      <td>GREATEST HITS</td>\n      <td>QUEEN</td>\n      <td>1981</td>\n      <td>1</td>\n    </tr>\n    <tr>\n      <th>1</th>\n      <td>2</td>\n      <td>GOLD - GREATEST HITS</td>\n      <td>ABBA</td>\n      <td>1992</td>\n      <td>1</td>\n    </tr>\n    <tr>\n      <th>2</th>\n      <td>3</td>\n      <td>SGT PEPPER'S LONELY HEARTS CLUB BAND</td>\n      <td>BEATLES</td>\n      <td>1967</td>\n      <td>1</td>\n    </tr>\n    <tr>\n      <th>3</th>\n      <td>4</td>\n      <td>21</td>\n      <td>ADELE</td>\n      <td>2011</td>\n      <td>1</td>\n    </tr>\n    <tr>\n      <th>4</th>\n      <td>5</td>\n      <td>WHAT'S THE STORY MORNING GLORY</td>\n      <td>OASIS</td>\n      <td>1995</td>\n      <td>1</td>\n    </tr>\n    <tr>\n      <th>5</th>\n      <td>6</td>\n      <td>THRILLER</td>\n      <td>MICHAEL JACKSON</td>\n      <td>1982</td>\n      <td>1</td>\n    </tr>\n    <tr>\n      <th>6</th>\n      <td>7</td>\n      <td>THE DARK SIDE OF THE MOON</td>\n      <td>PINK FLOYD</td>\n      <td>1973</td>\n      <td>2</td>\n    </tr>\n    <tr>\n      <th>7</th>\n      <td>8</td>\n      <td>BROTHERS IN ARMS</td>\n      <td>DIRE STRAITS</td>\n      <td>1985</td>\n      <td>1</td>\n    </tr>\n    <tr>\n      <th>8</th>\n      <td>9</td>\n      <td>BAD</td>\n      <td>MICHAEL JACKSON</td>\n      <td>1987</td>\n      <td>1</td>\n    </tr>\n    <tr>\n      <th>9</th>\n      <td>10</td>\n      <td>GREATEST HITS II</td>\n      <td>QUEEN</td>\n      <td>1991</td>\n      <td>1</td>\n    </tr>\n    <tr>\n      <th>10</th>\n      <td>11</td>\n      <td>RUMOURS</td>\n      <td>FLEETWOOD MAC</td>\n      <td>1977</td>\n      <td>1</td>\n    </tr>\n    <tr>\n      <th>11</th>\n      <td>12</td>\n      <td>THE IMMACULATE COLLECTION</td>\n      <td>MADONNA</td>\n      <td>1990</td>\n      <td>1</td>\n    </tr>\n    <tr>\n      <th>12</th>\n      <td>13</td>\n      <td>BACK TO BLACK</td>\n      <td>AMY WINEHOUSE</td>\n      <td>2006</td>\n      <td>1</td>\n    </tr>\n    <tr>\n      <th>13</th>\n      <td>14</td>\n      <td>STARS</td>\n      <td>SIMPLY RED</td>\n      <td>1991</td>\n      <td>1</td>\n    </tr>\n    <tr>\n      <th>14</th>\n      <td>15</td>\n      <td>COME ON OVER</td>\n      <td>SHANIA TWAIN</td>\n      <td>1997</td>\n      <td>1</td>\n    </tr>\n    <tr>\n      <th>15</th>\n      <td>16</td>\n      <td>LEGEND</td>\n      <td>BOB MARLEY &amp; THE WAILERS</td>\n      <td>1984</td>\n      <td>1</td>\n    </tr>\n    <tr>\n      <th>16</th>\n      <td>17</td>\n      <td>BACK TO BEDLAM</td>\n      <td>JAMES BLUNT</td>\n      <td>2004</td>\n      <td>1</td>\n    </tr>\n    <tr>\n      <th>17</th>\n      <td>18</td>\n      <td>URBAN HYMNS</td>\n      <td>VERVE</td>\n      <td>1997</td>\n      <td>1</td>\n    </tr>\n    <tr>\n      <th>18</th>\n      <td>19</td>\n      <td>BAT OUT OF HELL</td>\n      <td>MEAT LOAF</td>\n      <td>1977</td>\n      <td>9</td>\n    </tr>\n    <tr>\n      <th>19</th>\n      <td>20</td>\n      <td>1</td>\n      <td>BEATLES</td>\n      <td>2000</td>\n      <td>1</td>\n    </tr>\n    <tr>\n      <th>20</th>\n      <td>21</td>\n      <td>BRIDGE OVER TROUBLED WATER</td>\n      <td>SIMON &amp; GARFUNKEL</td>\n      <td>1970</td>\n      <td>1</td>\n    </tr>\n    <tr>\n      <th>21</th>\n      <td>22</td>\n      <td>DIRTY DANCING</td>\n      <td>ORIGINAL SOUNDTRACK</td>\n      <td>1987</td>\n      <td>4</td>\n    </tr>\n    <tr>\n      <th>22</th>\n      <td>23</td>\n      <td>SPIRIT</td>\n      <td>LEONA LEWIS</td>\n      <td>2007</td>\n      <td>1</td>\n    </tr>\n    <tr>\n      <th>23</th>\n      <td>24</td>\n      <td>CRAZY LOVE</td>\n      <td>MICHAEL BUBLE</td>\n      <td>2009</td>\n      <td>1</td>\n    </tr>\n    <tr>\n      <th>24</th>\n      <td>25</td>\n      <td>NO ANGEL</td>\n      <td>DIDO</td>\n      <td>2000</td>\n      <td>1</td>\n    </tr>\n    <tr>\n      <th>25</th>\n      <td>26</td>\n      <td>WHITE LADDER</td>\n      <td>DAVID GRAY</td>\n      <td>1998</td>\n      <td>1</td>\n    </tr>\n    <tr>\n      <th>26</th>\n      <td>27</td>\n      <td>25</td>\n      <td>ADELE</td>\n      <td>2015</td>\n      <td>1</td>\n    </tr>\n    <tr>\n      <th>27</th>\n      <td>28</td>\n      <td>TALK ON CORNERS</td>\n      <td>CORRS</td>\n      <td>1997</td>\n      <td>1</td>\n    </tr>\n    <tr>\n      <th>28</th>\n      <td>29</td>\n      <td>SPICE</td>\n      <td>SPICE GIRLS</td>\n      <td>1996</td>\n      <td>1</td>\n    </tr>\n    <tr>\n      <th>29</th>\n      <td>30</td>\n      <td>THE FAME</td>\n      <td>LADY GAGA</td>\n      <td>2008</td>\n      <td>1</td>\n    </tr>\n    <tr>\n      <th>30</th>\n      <td>31</td>\n      <td>A RUSH OF BLOOD TO THE HEAD</td>\n      <td>COLDPLAY</td>\n      <td>2002</td>\n      <td>1</td>\n    </tr>\n    <tr>\n      <th>31</th>\n      <td>32</td>\n      <td>LIFE FOR RENT</td>\n      <td>DIDO</td>\n      <td>2003</td>\n      <td>1</td>\n    </tr>\n    <tr>\n      <th>32</th>\n      <td>33</td>\n      <td>ONLY BY THE NIGHT</td>\n      <td>KINGS OF LEON</td>\n      <td>2008</td>\n      <td>1</td>\n    </tr>\n    <tr>\n      <th>33</th>\n      <td>34</td>\n      <td>BEAUTIFUL WORLD</td>\n      <td>TAKE THAT</td>\n      <td>2006</td>\n      <td>1</td>\n    </tr>\n    <tr>\n      <th>34</th>\n      <td>35</td>\n      <td>HOPES AND FEARS</td>\n      <td>KEANE</td>\n      <td>2004</td>\n      <td>1</td>\n    </tr>\n    <tr>\n      <th>35</th>\n      <td>36</td>\n      <td>THE JOSHUA TREE</td>\n      <td>U2</td>\n      <td>1987</td>\n      <td>1</td>\n    </tr>\n    <tr>\n      <th>36</th>\n      <td>37</td>\n      <td>THE WAR OF THE WORLDS</td>\n      <td>JEFF WAYNE</td>\n      <td>1978</td>\n      <td>5</td>\n    </tr>\n    <tr>\n      <th>37</th>\n      <td>38</td>\n      <td>SCISSOR SISTERS</td>\n      <td>SCISSOR SISTERS</td>\n      <td>2004</td>\n      <td>1</td>\n    </tr>\n    <tr>\n      <th>38</th>\n      <td>39</td>\n      <td>BUT SERIOUSLY</td>\n      <td>PHIL COLLINS</td>\n      <td>1989</td>\n      <td>1</td>\n    </tr>\n    <tr>\n      <th>39</th>\n      <td>40</td>\n      <td>X&amp;Y</td>\n      <td>COLDPLAY</td>\n      <td>2005</td>\n      <td>1</td>\n    </tr>\n    <tr>\n      <th>40</th>\n      <td>41</td>\n      <td>JAGGED LITTLE PILL</td>\n      <td>ALANIS MORISSETTE</td>\n      <td>1995</td>\n      <td>1</td>\n    </tr>\n    <tr>\n      <th>41</th>\n      <td>42</td>\n      <td>TUBULAR BELLS</td>\n      <td>MIKE OLDFIELD</td>\n      <td>1973</td>\n      <td>1</td>\n    </tr>\n    <tr>\n      <th>42</th>\n      <td>43</td>\n      <td>THE MAN WHO</td>\n      <td>TRAVIS</td>\n      <td>1999</td>\n      <td>1</td>\n    </tr>\n    <tr>\n      <th>43</th>\n      <td>44</td>\n      <td>TRACY CHAPMAN</td>\n      <td>TRACY CHAPMAN</td>\n      <td>1988</td>\n      <td>1</td>\n    </tr>\n    <tr>\n      <th>44</th>\n      <td>45</td>\n      <td>PARACHUTES</td>\n      <td>COLDPLAY</td>\n      <td>2000</td>\n      <td>1</td>\n    </tr>\n    <tr>\n      <th>45</th>\n      <td>46</td>\n      <td>GREATEST HITS</td>\n      <td>ABBA</td>\n      <td>1975</td>\n      <td>1</td>\n    </tr>\n    <tr>\n      <th>46</th>\n      <td>47</td>\n      <td>GREASE</td>\n      <td>ORIGINAL SOUNDTRACK</td>\n      <td>1977</td>\n      <td>1</td>\n    </tr>\n    <tr>\n      <th>47</th>\n      <td>48</td>\n      <td>I'VE BEEN EXPECTING YOU</td>\n      <td>ROBBIE WILLIAMS</td>\n      <td>1998</td>\n      <td>1</td>\n    </tr>\n    <tr>\n      <th>48</th>\n      <td>49</td>\n      <td>X</td>\n      <td>ED SHEERAN</td>\n      <td>2014</td>\n      <td>1</td>\n    </tr>\n    <tr>\n      <th>49</th>\n      <td>50</td>\n      <td>COME AWAY WITH ME</td>\n      <td>NORAH JONES</td>\n      <td>2002</td>\n      <td>1</td>\n    </tr>\n    <tr>\n      <th>50</th>\n      <td>51</td>\n      <td>GRACELAND</td>\n      <td>PAUL SIMON</td>\n      <td>1986</td>\n      <td>1</td>\n    </tr>\n    <tr>\n      <th>51</th>\n      <td>52</td>\n      <td>THE SOUND OF MUSIC</td>\n      <td>ORIGINAL CAST RECORDING</td>\n      <td>1965</td>\n      <td>1</td>\n    </tr>\n    <tr>\n      <th>52</th>\n      <td>53</td>\n      <td>LADIES &amp; GENTLEMEN - THE BEST OF</td>\n      <td>GEORGE MICHAEL</td>\n      <td>1998</td>\n      <td>1</td>\n    </tr>\n    <tr>\n      <th>53</th>\n      <td>54</td>\n      <td>TANGO IN THE NIGHT</td>\n      <td>FLEETWOOD MAC</td>\n      <td>1987</td>\n      <td>1</td>\n    </tr>\n    <tr>\n      <th>54</th>\n      <td>55</td>\n      <td>THE MARSHALL MATHERS LP</td>\n      <td>EMINEM</td>\n      <td>2000</td>\n      <td>1</td>\n    </tr>\n    <tr>\n      <th>55</th>\n      <td>56</td>\n      <td>SWING WHEN YOU'RE WINNING</td>\n      <td>ROBBIE WILLIAMS</td>\n      <td>2001</td>\n      <td>1</td>\n    </tr>\n    <tr>\n      <th>56</th>\n      <td>57</td>\n      <td>PROGRESS</td>\n      <td>TAKE THAT</td>\n      <td>2010</td>\n      <td>1</td>\n    </tr>\n    <tr>\n      <th>57</th>\n      <td>58</td>\n      <td>EYES OPEN</td>\n      <td>SNOW PATROL</td>\n      <td>2006</td>\n      <td>1</td>\n    </tr>\n    <tr>\n      <th>58</th>\n      <td>59</td>\n      <td>NEVER FORGET - THE ULTIMATE COLLECTION</td>\n      <td>TAKE THAT</td>\n      <td>2005</td>\n      <td>2</td>\n    </tr>\n    <tr>\n      <th>59</th>\n      <td>60</td>\n      <td>AUTOMATIC FOR THE PEOPLE</td>\n      <td>REM</td>\n      <td>1992</td>\n      <td>1</td>\n    </tr>\n  </tbody>\n</table>\n</div>"
     },
     "execution_count": 15,
     "metadata": {},
     "output_type": "execute_result"
    }
   ],
   "source": [
    "df.columns = [col.capitalize() for col in df.columns]\n",
    "df"
   ],
   "metadata": {
    "collapsed": false,
    "ExecuteTime": {
     "end_time": "2023-12-28T13:17:56.881074500Z",
     "start_time": "2023-12-28T13:17:56.841399800Z"
    }
   },
   "id": "5769acf97d48428b",
   "execution_count": 15
  },
  {
   "cell_type": "markdown",
   "source": [
    "Zamiana formatu nagłówków pierwsza upper reszta "
   ],
   "metadata": {
    "collapsed": false
   },
   "id": "490fbbcdb6566e81"
  },
  {
   "cell_type": "code",
   "outputs": [
    {
     "data": {
      "text/plain": "    Pozycja                                   Tytuł                   Artysta  \\\n0         1                           GREATEST HITS                     QUEEN   \n1         2                    GOLD - GREATEST HITS                      ABBA   \n2         3    SGT PEPPER'S LONELY HEARTS CLUB BAND                   BEATLES   \n3         4                                      21                     ADELE   \n4         5          WHAT'S THE STORY MORNING GLORY                     OASIS   \n5         6                                THRILLER           MICHAEL JACKSON   \n6         7               THE DARK SIDE OF THE MOON                PINK FLOYD   \n7         8                        BROTHERS IN ARMS              DIRE STRAITS   \n8         9                                     BAD           MICHAEL JACKSON   \n9        10                        GREATEST HITS II                     QUEEN   \n10       11                                 RUMOURS             FLEETWOOD MAC   \n11       12               THE IMMACULATE COLLECTION                   MADONNA   \n12       13                           BACK TO BLACK             AMY WINEHOUSE   \n13       14                                   STARS                SIMPLY RED   \n14       15                            COME ON OVER              SHANIA TWAIN   \n15       16                                  LEGEND  BOB MARLEY & THE WAILERS   \n16       17                          BACK TO BEDLAM               JAMES BLUNT   \n17       18                             URBAN HYMNS                     VERVE   \n18       19                         BAT OUT OF HELL                 MEAT LOAF   \n19       20                                       1                   BEATLES   \n20       21              BRIDGE OVER TROUBLED WATER         SIMON & GARFUNKEL   \n21       22                           DIRTY DANCING       ORIGINAL SOUNDTRACK   \n22       23                                  SPIRIT               LEONA LEWIS   \n23       24                              CRAZY LOVE             MICHAEL BUBLE   \n24       25                                NO ANGEL                      DIDO   \n25       26                            WHITE LADDER                DAVID GRAY   \n26       27                                      25                     ADELE   \n27       28                         TALK ON CORNERS                     CORRS   \n28       29                                   SPICE               SPICE GIRLS   \n29       30                                THE FAME                 LADY GAGA   \n30       31             A RUSH OF BLOOD TO THE HEAD                  COLDPLAY   \n31       32                           LIFE FOR RENT                      DIDO   \n32       33                       ONLY BY THE NIGHT             KINGS OF LEON   \n33       34                         BEAUTIFUL WORLD                 TAKE THAT   \n34       35                         HOPES AND FEARS                     KEANE   \n35       36                         THE JOSHUA TREE                        U2   \n36       37                   THE WAR OF THE WORLDS                JEFF WAYNE   \n37       38                         SCISSOR SISTERS           SCISSOR SISTERS   \n38       39                           BUT SERIOUSLY              PHIL COLLINS   \n39       40                                     X&Y                  COLDPLAY   \n40       41                      JAGGED LITTLE PILL         ALANIS MORISSETTE   \n41       42                           TUBULAR BELLS             MIKE OLDFIELD   \n42       43                             THE MAN WHO                    TRAVIS   \n43       44                           TRACY CHAPMAN             TRACY CHAPMAN   \n44       45                              PARACHUTES                  COLDPLAY   \n45       46                           GREATEST HITS                      ABBA   \n46       47                                  GREASE       ORIGINAL SOUNDTRACK   \n47       48                 I'VE BEEN EXPECTING YOU           ROBBIE WILLIAMS   \n48       49                                       X                ED SHEERAN   \n49       50                       COME AWAY WITH ME               NORAH JONES   \n50       51                               GRACELAND                PAUL SIMON   \n51       52                      THE SOUND OF MUSIC   ORIGINAL CAST RECORDING   \n52       53        LADIES & GENTLEMEN - THE BEST OF            GEORGE MICHAEL   \n53       54                      TANGO IN THE NIGHT             FLEETWOOD MAC   \n54       55                 THE MARSHALL MATHERS LP                    EMINEM   \n55       56               SWING WHEN YOU'RE WINNING           ROBBIE WILLIAMS   \n56       57                                PROGRESS                 TAKE THAT   \n57       58                               EYES OPEN               SNOW PATROL   \n58       59  NEVER FORGET - THE ULTIMATE COLLECTION                 TAKE THAT   \n59       60                AUTOMATIC FOR THE PEOPLE                       REM   \n\n     Rok  \n0   1981  \n1   1992  \n2   1967  \n3   2011  \n4   1995  \n5   1982  \n6   1973  \n7   1985  \n8   1987  \n9   1991  \n10  1977  \n11  1990  \n12  2006  \n13  1991  \n14  1997  \n15  1984  \n16  2004  \n17  1997  \n18  1977  \n19  2000  \n20  1970  \n21  1987  \n22  2007  \n23  2009  \n24  2000  \n25  1998  \n26  2015  \n27  1997  \n28  1996  \n29  2008  \n30  2002  \n31  2003  \n32  2008  \n33  2006  \n34  2004  \n35  1987  \n36  1978  \n37  2004  \n38  1989  \n39  2005  \n40  1995  \n41  1973  \n42  1999  \n43  1988  \n44  2000  \n45  1975  \n46  1977  \n47  1998  \n48  2014  \n49  2002  \n50  1986  \n51  1965  \n52  1998  \n53  1987  \n54  2000  \n55  2001  \n56  2010  \n57  2006  \n58  2005  \n59  1992  ",
      "text/html": "<div>\n<style scoped>\n    .dataframe tbody tr th:only-of-type {\n        vertical-align: middle;\n    }\n\n    .dataframe tbody tr th {\n        vertical-align: top;\n    }\n\n    .dataframe thead th {\n        text-align: right;\n    }\n</style>\n<table border=\"1\" class=\"dataframe\">\n  <thead>\n    <tr style=\"text-align: right;\">\n      <th></th>\n      <th>Pozycja</th>\n      <th>Tytuł</th>\n      <th>Artysta</th>\n      <th>Rok</th>\n    </tr>\n  </thead>\n  <tbody>\n    <tr>\n      <th>0</th>\n      <td>1</td>\n      <td>GREATEST HITS</td>\n      <td>QUEEN</td>\n      <td>1981</td>\n    </tr>\n    <tr>\n      <th>1</th>\n      <td>2</td>\n      <td>GOLD - GREATEST HITS</td>\n      <td>ABBA</td>\n      <td>1992</td>\n    </tr>\n    <tr>\n      <th>2</th>\n      <td>3</td>\n      <td>SGT PEPPER'S LONELY HEARTS CLUB BAND</td>\n      <td>BEATLES</td>\n      <td>1967</td>\n    </tr>\n    <tr>\n      <th>3</th>\n      <td>4</td>\n      <td>21</td>\n      <td>ADELE</td>\n      <td>2011</td>\n    </tr>\n    <tr>\n      <th>4</th>\n      <td>5</td>\n      <td>WHAT'S THE STORY MORNING GLORY</td>\n      <td>OASIS</td>\n      <td>1995</td>\n    </tr>\n    <tr>\n      <th>5</th>\n      <td>6</td>\n      <td>THRILLER</td>\n      <td>MICHAEL JACKSON</td>\n      <td>1982</td>\n    </tr>\n    <tr>\n      <th>6</th>\n      <td>7</td>\n      <td>THE DARK SIDE OF THE MOON</td>\n      <td>PINK FLOYD</td>\n      <td>1973</td>\n    </tr>\n    <tr>\n      <th>7</th>\n      <td>8</td>\n      <td>BROTHERS IN ARMS</td>\n      <td>DIRE STRAITS</td>\n      <td>1985</td>\n    </tr>\n    <tr>\n      <th>8</th>\n      <td>9</td>\n      <td>BAD</td>\n      <td>MICHAEL JACKSON</td>\n      <td>1987</td>\n    </tr>\n    <tr>\n      <th>9</th>\n      <td>10</td>\n      <td>GREATEST HITS II</td>\n      <td>QUEEN</td>\n      <td>1991</td>\n    </tr>\n    <tr>\n      <th>10</th>\n      <td>11</td>\n      <td>RUMOURS</td>\n      <td>FLEETWOOD MAC</td>\n      <td>1977</td>\n    </tr>\n    <tr>\n      <th>11</th>\n      <td>12</td>\n      <td>THE IMMACULATE COLLECTION</td>\n      <td>MADONNA</td>\n      <td>1990</td>\n    </tr>\n    <tr>\n      <th>12</th>\n      <td>13</td>\n      <td>BACK TO BLACK</td>\n      <td>AMY WINEHOUSE</td>\n      <td>2006</td>\n    </tr>\n    <tr>\n      <th>13</th>\n      <td>14</td>\n      <td>STARS</td>\n      <td>SIMPLY RED</td>\n      <td>1991</td>\n    </tr>\n    <tr>\n      <th>14</th>\n      <td>15</td>\n      <td>COME ON OVER</td>\n      <td>SHANIA TWAIN</td>\n      <td>1997</td>\n    </tr>\n    <tr>\n      <th>15</th>\n      <td>16</td>\n      <td>LEGEND</td>\n      <td>BOB MARLEY &amp; THE WAILERS</td>\n      <td>1984</td>\n    </tr>\n    <tr>\n      <th>16</th>\n      <td>17</td>\n      <td>BACK TO BEDLAM</td>\n      <td>JAMES BLUNT</td>\n      <td>2004</td>\n    </tr>\n    <tr>\n      <th>17</th>\n      <td>18</td>\n      <td>URBAN HYMNS</td>\n      <td>VERVE</td>\n      <td>1997</td>\n    </tr>\n    <tr>\n      <th>18</th>\n      <td>19</td>\n      <td>BAT OUT OF HELL</td>\n      <td>MEAT LOAF</td>\n      <td>1977</td>\n    </tr>\n    <tr>\n      <th>19</th>\n      <td>20</td>\n      <td>1</td>\n      <td>BEATLES</td>\n      <td>2000</td>\n    </tr>\n    <tr>\n      <th>20</th>\n      <td>21</td>\n      <td>BRIDGE OVER TROUBLED WATER</td>\n      <td>SIMON &amp; GARFUNKEL</td>\n      <td>1970</td>\n    </tr>\n    <tr>\n      <th>21</th>\n      <td>22</td>\n      <td>DIRTY DANCING</td>\n      <td>ORIGINAL SOUNDTRACK</td>\n      <td>1987</td>\n    </tr>\n    <tr>\n      <th>22</th>\n      <td>23</td>\n      <td>SPIRIT</td>\n      <td>LEONA LEWIS</td>\n      <td>2007</td>\n    </tr>\n    <tr>\n      <th>23</th>\n      <td>24</td>\n      <td>CRAZY LOVE</td>\n      <td>MICHAEL BUBLE</td>\n      <td>2009</td>\n    </tr>\n    <tr>\n      <th>24</th>\n      <td>25</td>\n      <td>NO ANGEL</td>\n      <td>DIDO</td>\n      <td>2000</td>\n    </tr>\n    <tr>\n      <th>25</th>\n      <td>26</td>\n      <td>WHITE LADDER</td>\n      <td>DAVID GRAY</td>\n      <td>1998</td>\n    </tr>\n    <tr>\n      <th>26</th>\n      <td>27</td>\n      <td>25</td>\n      <td>ADELE</td>\n      <td>2015</td>\n    </tr>\n    <tr>\n      <th>27</th>\n      <td>28</td>\n      <td>TALK ON CORNERS</td>\n      <td>CORRS</td>\n      <td>1997</td>\n    </tr>\n    <tr>\n      <th>28</th>\n      <td>29</td>\n      <td>SPICE</td>\n      <td>SPICE GIRLS</td>\n      <td>1996</td>\n    </tr>\n    <tr>\n      <th>29</th>\n      <td>30</td>\n      <td>THE FAME</td>\n      <td>LADY GAGA</td>\n      <td>2008</td>\n    </tr>\n    <tr>\n      <th>30</th>\n      <td>31</td>\n      <td>A RUSH OF BLOOD TO THE HEAD</td>\n      <td>COLDPLAY</td>\n      <td>2002</td>\n    </tr>\n    <tr>\n      <th>31</th>\n      <td>32</td>\n      <td>LIFE FOR RENT</td>\n      <td>DIDO</td>\n      <td>2003</td>\n    </tr>\n    <tr>\n      <th>32</th>\n      <td>33</td>\n      <td>ONLY BY THE NIGHT</td>\n      <td>KINGS OF LEON</td>\n      <td>2008</td>\n    </tr>\n    <tr>\n      <th>33</th>\n      <td>34</td>\n      <td>BEAUTIFUL WORLD</td>\n      <td>TAKE THAT</td>\n      <td>2006</td>\n    </tr>\n    <tr>\n      <th>34</th>\n      <td>35</td>\n      <td>HOPES AND FEARS</td>\n      <td>KEANE</td>\n      <td>2004</td>\n    </tr>\n    <tr>\n      <th>35</th>\n      <td>36</td>\n      <td>THE JOSHUA TREE</td>\n      <td>U2</td>\n      <td>1987</td>\n    </tr>\n    <tr>\n      <th>36</th>\n      <td>37</td>\n      <td>THE WAR OF THE WORLDS</td>\n      <td>JEFF WAYNE</td>\n      <td>1978</td>\n    </tr>\n    <tr>\n      <th>37</th>\n      <td>38</td>\n      <td>SCISSOR SISTERS</td>\n      <td>SCISSOR SISTERS</td>\n      <td>2004</td>\n    </tr>\n    <tr>\n      <th>38</th>\n      <td>39</td>\n      <td>BUT SERIOUSLY</td>\n      <td>PHIL COLLINS</td>\n      <td>1989</td>\n    </tr>\n    <tr>\n      <th>39</th>\n      <td>40</td>\n      <td>X&amp;Y</td>\n      <td>COLDPLAY</td>\n      <td>2005</td>\n    </tr>\n    <tr>\n      <th>40</th>\n      <td>41</td>\n      <td>JAGGED LITTLE PILL</td>\n      <td>ALANIS MORISSETTE</td>\n      <td>1995</td>\n    </tr>\n    <tr>\n      <th>41</th>\n      <td>42</td>\n      <td>TUBULAR BELLS</td>\n      <td>MIKE OLDFIELD</td>\n      <td>1973</td>\n    </tr>\n    <tr>\n      <th>42</th>\n      <td>43</td>\n      <td>THE MAN WHO</td>\n      <td>TRAVIS</td>\n      <td>1999</td>\n    </tr>\n    <tr>\n      <th>43</th>\n      <td>44</td>\n      <td>TRACY CHAPMAN</td>\n      <td>TRACY CHAPMAN</td>\n      <td>1988</td>\n    </tr>\n    <tr>\n      <th>44</th>\n      <td>45</td>\n      <td>PARACHUTES</td>\n      <td>COLDPLAY</td>\n      <td>2000</td>\n    </tr>\n    <tr>\n      <th>45</th>\n      <td>46</td>\n      <td>GREATEST HITS</td>\n      <td>ABBA</td>\n      <td>1975</td>\n    </tr>\n    <tr>\n      <th>46</th>\n      <td>47</td>\n      <td>GREASE</td>\n      <td>ORIGINAL SOUNDTRACK</td>\n      <td>1977</td>\n    </tr>\n    <tr>\n      <th>47</th>\n      <td>48</td>\n      <td>I'VE BEEN EXPECTING YOU</td>\n      <td>ROBBIE WILLIAMS</td>\n      <td>1998</td>\n    </tr>\n    <tr>\n      <th>48</th>\n      <td>49</td>\n      <td>X</td>\n      <td>ED SHEERAN</td>\n      <td>2014</td>\n    </tr>\n    <tr>\n      <th>49</th>\n      <td>50</td>\n      <td>COME AWAY WITH ME</td>\n      <td>NORAH JONES</td>\n      <td>2002</td>\n    </tr>\n    <tr>\n      <th>50</th>\n      <td>51</td>\n      <td>GRACELAND</td>\n      <td>PAUL SIMON</td>\n      <td>1986</td>\n    </tr>\n    <tr>\n      <th>51</th>\n      <td>52</td>\n      <td>THE SOUND OF MUSIC</td>\n      <td>ORIGINAL CAST RECORDING</td>\n      <td>1965</td>\n    </tr>\n    <tr>\n      <th>52</th>\n      <td>53</td>\n      <td>LADIES &amp; GENTLEMEN - THE BEST OF</td>\n      <td>GEORGE MICHAEL</td>\n      <td>1998</td>\n    </tr>\n    <tr>\n      <th>53</th>\n      <td>54</td>\n      <td>TANGO IN THE NIGHT</td>\n      <td>FLEETWOOD MAC</td>\n      <td>1987</td>\n    </tr>\n    <tr>\n      <th>54</th>\n      <td>55</td>\n      <td>THE MARSHALL MATHERS LP</td>\n      <td>EMINEM</td>\n      <td>2000</td>\n    </tr>\n    <tr>\n      <th>55</th>\n      <td>56</td>\n      <td>SWING WHEN YOU'RE WINNING</td>\n      <td>ROBBIE WILLIAMS</td>\n      <td>2001</td>\n    </tr>\n    <tr>\n      <th>56</th>\n      <td>57</td>\n      <td>PROGRESS</td>\n      <td>TAKE THAT</td>\n      <td>2010</td>\n    </tr>\n    <tr>\n      <th>57</th>\n      <td>58</td>\n      <td>EYES OPEN</td>\n      <td>SNOW PATROL</td>\n      <td>2006</td>\n    </tr>\n    <tr>\n      <th>58</th>\n      <td>59</td>\n      <td>NEVER FORGET - THE ULTIMATE COLLECTION</td>\n      <td>TAKE THAT</td>\n      <td>2005</td>\n    </tr>\n    <tr>\n      <th>59</th>\n      <td>60</td>\n      <td>AUTOMATIC FOR THE PEOPLE</td>\n      <td>REM</td>\n      <td>1992</td>\n    </tr>\n  </tbody>\n</table>\n</div>"
     },
     "execution_count": 16,
     "metadata": {},
     "output_type": "execute_result"
    }
   ],
   "source": [
    "df = df.drop(columns=['Max poz'])\n",
    "df"
   ],
   "metadata": {
    "collapsed": false,
    "ExecuteTime": {
     "end_time": "2023-12-28T13:17:56.942392300Z",
     "start_time": "2023-12-28T13:17:56.860861800Z"
    }
   },
   "id": "b1c88efe59b23882",
   "execution_count": 16
  },
  {
   "cell_type": "markdown",
   "source": [
    "Wyrzucam z tabeli kolumnę ‘Max Poz’."
   ],
   "metadata": {
    "collapsed": false
   },
   "id": "29d2e3ef9eaebd58"
  },
  {
   "cell_type": "code",
   "outputs": [
    {
     "data": {
      "text/plain": "[1987, 2000]"
     },
     "execution_count": 17,
     "metadata": {},
     "output_type": "execute_result"
    }
   ],
   "source": [
    "najwiecej_albumow = df['Rok'].mode().tolist()\n",
    "najwiecej_albumow"
   ],
   "metadata": {
    "collapsed": false,
    "ExecuteTime": {
     "end_time": "2023-12-28T13:17:56.944403400Z",
     "start_time": "2023-12-28T13:17:56.877852100Z"
    }
   },
   "id": "6e0a9f06cd29276e",
   "execution_count": 17
  },
  {
   "cell_type": "markdown",
   "source": [
    "odpowiedź na zadanie W którym roku wyszło najwięcej albumów znajdujących się na liście?"
   ],
   "metadata": {
    "collapsed": false
   },
   "id": "d6707444641a3111"
  },
  {
   "cell_type": "code",
   "outputs": [
    {
     "data": {
      "text/plain": "22"
     },
     "execution_count": 18,
     "metadata": {},
     "output_type": "execute_result"
    }
   ],
   "source": [
    "ilosc_albumow = df[(df['Rok'] >= 1960) & (df['Rok'] <= 1990)].count().iloc[0]\n",
    "ilosc_albumow"
   ],
   "metadata": {
    "collapsed": false,
    "ExecuteTime": {
     "end_time": "2023-12-28T13:17:56.945402800Z",
     "start_time": "2023-12-28T13:17:56.886063200Z"
    }
   },
   "id": "d39f5de7a4a16042",
   "execution_count": 18
  },
  {
   "cell_type": "markdown",
   "source": [
    "ilość albumów między 1960 a 1990"
   ],
   "metadata": {
    "collapsed": false
   },
   "id": "3065c40616066018"
  },
  {
   "cell_type": "code",
   "outputs": [
    {
     "data": {
      "text/plain": "2015"
     },
     "execution_count": 19,
     "metadata": {},
     "output_type": "execute_result"
    }
   ],
   "source": [
    "najmlodszy_album = df['Rok'].max()\n",
    "najmlodszy_album"
   ],
   "metadata": {
    "collapsed": false,
    "ExecuteTime": {
     "end_time": "2023-12-28T13:17:56.958389900Z",
     "start_time": "2023-12-28T13:17:56.897431300Z"
    }
   },
   "id": "5f20fc3853faa594",
   "execution_count": 19
  },
  {
   "cell_type": "markdown",
   "source": [
    "rok wyadnia najmłodszego albumu"
   ],
   "metadata": {
    "collapsed": false
   },
   "id": "a9acd3c0f29acf7e"
  },
  {
   "cell_type": "code",
   "outputs": [
    {
     "data": {
      "text/plain": "Artysta\nORIGINAL CAST RECORDING     1965\nBEATLES                     1967\nSIMON & GARFUNKEL           1970\nPINK FLOYD                  1973\nMIKE OLDFIELD               1973\nABBA                        1975\nMEAT LOAF                   1977\nORIGINAL SOUNDTRACK         1977\nFLEETWOOD MAC               1977\nJEFF WAYNE                  1978\nQUEEN                       1981\nMICHAEL JACKSON             1982\nBOB MARLEY & THE WAILERS    1984\nDIRE STRAITS                1985\nPAUL SIMON                  1986\nU2                          1987\nTRACY CHAPMAN               1988\nPHIL COLLINS                1989\nMADONNA                     1990\nSIMPLY RED                  1991\nREM                         1992\nALANIS MORISSETTE           1995\nOASIS                       1995\nSPICE GIRLS                 1996\nSHANIA TWAIN                1997\nVERVE                       1997\nCORRS                       1997\nDAVID GRAY                  1998\nGEORGE MICHAEL              1998\nROBBIE WILLIAMS             1998\nTRAVIS                      1999\nCOLDPLAY                    2000\nEMINEM                      2000\nDIDO                        2000\nNORAH JONES                 2002\nSCISSOR SISTERS             2004\nJAMES BLUNT                 2004\nKEANE                       2004\nTAKE THAT                   2005\nSNOW PATROL                 2006\nAMY WINEHOUSE               2006\nLEONA LEWIS                 2007\nKINGS OF LEON               2008\nLADY GAGA                   2008\nMICHAEL BUBLE               2009\nADELE                       2011\nED SHEERAN                  2014\nName: Rok, dtype: int64"
     },
     "execution_count": 20,
     "metadata": {},
     "output_type": "execute_result"
    }
   ],
   "source": [
    "najwczesniejsze_albumy = df.groupby('Artysta')['Rok'].min().sort_values()\n",
    "najwczesniejsze_albumy.to_csv('najwczesniejsze_albumy.csv', sep=';')\n",
    "najwczesniejsze_albumy"
   ],
   "metadata": {
    "collapsed": false,
    "ExecuteTime": {
     "end_time": "2023-12-28T13:17:56.959389500Z",
     "start_time": "2023-12-28T13:17:56.907433200Z"
    }
   },
   "id": "ab2b95b722bfda4a",
   "execution_count": 20
  },
  {
   "cell_type": "markdown",
   "source": [
    "Najwcześniej wydane albumy każdego z artystów i zapisanie ich do pliku csv"
   ],
   "metadata": {
    "collapsed": false
   },
   "id": "a78d34be7e102269"
  }
 ],
 "metadata": {
  "kernelspec": {
   "display_name": "Python 3",
   "language": "python",
   "name": "python3"
  },
  "language_info": {
   "codemirror_mode": {
    "name": "ipython",
    "version": 2
   },
   "file_extension": ".py",
   "mimetype": "text/x-python",
   "name": "python",
   "nbconvert_exporter": "python",
   "pygments_lexer": "ipython2",
   "version": "2.7.6"
  }
 },
 "nbformat": 4,
 "nbformat_minor": 5
}
