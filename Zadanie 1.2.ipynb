{
 "cells": [
  {
   "cell_type": "code",
   "execution_count": 1,
   "id": "initial_id",
   "metadata": {
    "collapsed": true,
    "ExecuteTime": {
     "end_time": "2023-12-28T10:29:06.843649900Z",
     "start_time": "2023-12-28T10:29:06.809353900Z"
    }
   },
   "outputs": [],
   "source": [
    "fertility_rate = [1.3, 1.95, 2.466, 1.6, 2.952, 1.801, 1.34, 1.34, 1.63, 2.326, 2.436, 6.563, 1.283, 1.43, 1.988,\n",
    "                  1.61, 1.921, 2.4, 1.495, 4.705]\n",
    "life_expectancy = [76.84878, 81.40732, 77.57895, 74.16341, 68.84907, 73.88595, 75.26829, 76.26098, 80.57244,\n",
    "                   65.46259, 67.5482, 55.02451, 76.2799, 82.29024, 69.80695, 81.40112, 82.19756, 74.22683, 80.12888,\n",
    "                   45.55095]"
   ]
  },
  {
   "cell_type": "code",
   "outputs": [
    {
     "name": "stdout",
     "output_type": "stream",
     "text": [
      "Średnia: 73.237646, Mediana: 76.26098 Dominanta: 45.55095 (występuje 1 razy)\n"
     ]
    }
   ],
   "source": [
    "srednia_lf = sum(life_expectancy) / len(life_expectancy)\n",
    "life_expectancy.sort()\n",
    "mediana_lf = life_expectancy[len(life_expectancy) // 2]\n",
    "dominanta_lf = max(set(life_expectancy), key=life_expectancy.count)\n",
    "print(\n",
    "    f'Średnia: {srednia_lf}, Mediana: {mediana_lf} Dominanta: {dominanta_lf} (występuje {life_expectancy.count(dominanta_lf)} razy)')"
   ],
   "metadata": {
    "collapsed": false,
    "ExecuteTime": {
     "end_time": "2023-12-28T10:29:06.853373900Z",
     "start_time": "2023-12-28T10:29:06.832430Z"
    }
   },
   "id": "513b6f1600af2fd2",
   "execution_count": 3
  },
  {
   "cell_type": "code",
   "outputs": [
    {
     "name": "stdout",
     "output_type": "stream",
     "text": [
      "Wariancja: 83.78440677763399, Odchylenie standardowe: 9.153382258904847\n"
     ]
    }
   ],
   "source": [
    "wariancja_lf = sum((i - srednia_lf) ** 2 for i in life_expectancy) / (len(life_expectancy))\n",
    "odchylenie_lf = wariancja_lf ** 0.5\n",
    "print(f'Wariancja: {wariancja_lf}, Odchylenie standardowe: {odchylenie_lf}')"
   ],
   "metadata": {
    "collapsed": false,
    "ExecuteTime": {
     "end_time": "2023-12-28T10:29:06.867372100Z",
     "start_time": "2023-12-28T10:29:06.836430600Z"
    }
   },
   "id": "ce1d2360b0c2eca4",
   "execution_count": 4
  },
  {
   "cell_type": "code",
   "outputs": [
    {
     "name": "stdout",
     "output_type": "stream",
     "text": [
      "Kowariancja: 2.341278452315789, Korelacja: 0.2033556026594513\n"
     ]
    }
   ],
   "source": [
    "srednia_fr = sum(fertility_rate) / len(fertility_rate)\n",
    "suma = 0\n",
    "for i in range(len(fertility_rate)):\n",
    "    suma += (fertility_rate[i] - srednia_fr) * (life_expectancy[i] - srednia_lf)\n",
    "kowriencja = suma / (len(fertility_rate) - 1)\n",
    "wariancja_fr = sum((i - srednia_fr) ** 2 for i in fertility_rate) / (len(fertility_rate))\n",
    "odchylenie_fr = wariancja_fr ** 0.5\n",
    "korelacja = kowriencja / (odchylenie_fr * odchylenie_lf)\n",
    "print(f'Kowariancja: {kowriencja}, Korelacja: {korelacja}')"
   ],
   "metadata": {
    "collapsed": false,
    "ExecuteTime": {
     "end_time": "2023-12-28T10:29:07.033374200Z",
     "start_time": "2023-12-28T10:29:06.844649400Z"
    }
   },
   "id": "22a7b0cb4cd5bd08",
   "execution_count": 5
  },
  {
   "cell_type": "code",
   "outputs": [
    {
     "name": "stdout",
     "output_type": "stream",
     "text": [
      "Przedział ufności: [69.25377784856727, 77.22151415143273]\n"
     ]
    }
   ],
   "source": [
    "odchylenie_std_populacji = 9.09\n",
    "poziom_ufnosci = 0.95\n",
    "margines_bledu = 1.96 * (odchylenie_std_populacji / (len(life_expectancy) ** 0.5))\n",
    "przedzial_ufnosci = [srednia_lf - margines_bledu, srednia_lf + margines_bledu]\n",
    "print(f'Przedział ufności: {przedzial_ufnosci}')"
   ],
   "metadata": {
    "collapsed": false,
    "ExecuteTime": {
     "end_time": "2023-12-28T10:29:07.035387200Z",
     "start_time": "2023-12-28T10:29:06.854373600Z"
    }
   },
   "id": "53e5e142530eadf2",
   "execution_count": 6
  }
 ],
 "metadata": {
  "kernelspec": {
   "display_name": "Python 3",
   "language": "python",
   "name": "python3"
  },
  "language_info": {
   "codemirror_mode": {
    "name": "ipython",
    "version": 2
   },
   "file_extension": ".py",
   "mimetype": "text/x-python",
   "name": "python",
   "nbconvert_exporter": "python",
   "pygments_lexer": "ipython2",
   "version": "2.7.6"
  }
 },
 "nbformat": 4,
 "nbformat_minor": 5
}
